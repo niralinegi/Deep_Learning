{
  "nbformat": 4,
  "nbformat_minor": 0,
  "metadata": {
    "colab": {
      "name": "cifar-10.ipynb",
      "provenance": [],
      "collapsed_sections": []
    },
    "kernelspec": {
      "name": "python3",
      "display_name": "Python 3"
    },
    "language_info": {
      "name": "python"
    },
    "accelerator": "GPU"
  },
  "cells": [
    {
      "cell_type": "code",
      "metadata": {
        "id": "Jg4gAOpiIDkv"
      },
      "source": [
        "#import all the libraries\n",
        "\n",
        "import tensorflow\n",
        "import matplotlib.pyplot as plt\n",
        "from tensorflow.keras.layers import Conv2D, MaxPool2D, Flatten, Dense, Dropout\n",
        "from tensorflow.keras.models import Sequential\n",
        "from tensorflow.keras.datasets import cifar10\n",
        "\n",
        "import numpy as np\n",
        "import pandas as pd"
      ],
      "execution_count": 1,
      "outputs": []
    },
    {
      "cell_type": "code",
      "metadata": {
        "colab": {
          "base_uri": "https://localhost:8080/"
        },
        "id": "qTaxcmjTJskE",
        "outputId": "3e9e3db9-bff6-470c-d1fd-c4845f8f7de8"
      },
      "source": [
        "# loading the dataset\n",
        "(X_train, y_train), (X_test, y_test) =cifar10.load_data()"
      ],
      "execution_count": 2,
      "outputs": [
        {
          "output_type": "stream",
          "text": [
            "Downloading data from https://www.cs.toronto.edu/~kriz/cifar-10-python.tar.gz\n",
            "170500096/170498071 [==============================] - 2s 0us/step\n",
            "170508288/170498071 [==============================] - 2s 0us/step\n"
          ],
          "name": "stdout"
        }
      ]
    },
    {
      "cell_type": "code",
      "metadata": {
        "colab": {
          "base_uri": "https://localhost:8080/"
        },
        "id": "WpvXhICwK5VB",
        "outputId": "f7001103-483a-499e-e56a-de539d48d469"
      },
      "source": [
        "X_train.shape"
      ],
      "execution_count": 3,
      "outputs": [
        {
          "output_type": "execute_result",
          "data": {
            "text/plain": [
              "(50000, 32, 32, 3)"
            ]
          },
          "metadata": {},
          "execution_count": 3
        }
      ]
    },
    {
      "cell_type": "code",
      "metadata": {
        "id": "yhBy2Yx_LAkk"
      },
      "source": [
        "classes = ['airplane', 'automobile', 'bird', 'cat', 'deer', 'dog', 'frog', 'horse', 'ship', 'truck']"
      ],
      "execution_count": 4,
      "outputs": []
    },
    {
      "cell_type": "code",
      "metadata": {
        "colab": {
          "base_uri": "https://localhost:8080/",
          "height": 284
        },
        "id": "CFai5oJeLkNH",
        "outputId": "b9849189-f426-47eb-f432-ee1c5e140074"
      },
      "source": [
        "# visualising the data\n",
        "plt.imshow(X_train[100])\n",
        "classes[y_train[100][0]]"
      ],
      "execution_count": 5,
      "outputs": [
        {
          "output_type": "execute_result",
          "data": {
            "application/vnd.google.colaboratory.intrinsic+json": {
              "type": "string"
            },
            "text/plain": [
              "'ship'"
            ]
          },
          "metadata": {},
          "execution_count": 5
        },
        {
          "output_type": "display_data",
          "data": {
            "image/png": "[encoded data removed]",
            "text/plain": [
              "<Figure size 432x288 with 1 Axes>"
            ]
          },
          "metadata": {
            "needs_background": "light"
          }
        }
      ]
    },
    {
      "cell_type": "code",
      "metadata": {
        "id": "0_dd8KVzLs8e"
      },
      "source": [
        "# normalize the image\n",
        "\n",
        "X_train, X_test = X_train/255, X_test/255"
      ],
      "execution_count": 6,
      "outputs": []
    },
    {
      "cell_type": "markdown",
      "metadata": {
        "id": "3Oub204HPJet"
      },
      "source": [
        "1. model architecture\n",
        "2. compile\n",
        "3. fit"
      ]
    },
    {
      "cell_type": "code",
      "metadata": {
        "id": "ypBjkUMCPFpn"
      },
      "source": [
        "# 1. model architecture\n",
        "\n",
        "model = Sequential()\n",
        "# Conv layer 1\n",
        "model.add(Conv2D(10, 3, strides=1, activation='relu', kernel_initializer='he_uniform'))\n",
        "model.add(MaxPool2D())\n",
        "\n",
        "# Conv layer 2\n",
        "model.add(Conv2D(20, 3, activation='relu', kernel_initializer='he_uniform'))\n",
        "model.add(MaxPool2D())\n",
        "\n",
        "# Conv layer 3\n",
        "model.add(Conv2D(40, 3, activation='relu', kernel_initializer='he_uniform'))\n",
        "model.add(MaxPool2D())\n",
        "\n",
        "# flatten\n",
        "model.add(Flatten())\n",
        "\n",
        "# hidden layer 1\n",
        "model.add(Dense(128, activation='relu'))\n",
        "\n",
        "# hidden layer 2\n",
        "model.add(Dense(64, activation='relu'))\n",
        "\n",
        "# hidden layer 3\n",
        "model.add(Dense(32, activation='sigmoid'))\n",
        "\n",
        "# output layer here no. of classes = 10\n",
        "model.add(Dense(10, activation='softmax'))"
      ],
      "execution_count": 7,
      "outputs": []
    },
    {
      "cell_type": "code",
      "metadata": {
        "id": "S3bczKThRg3s"
      },
      "source": [
        "model.compile(optimizer='adam', loss = tensorflow.keras.losses.SparseCategoricalCrossentropy(), metrics=['accuracy'])"
      ],
      "execution_count": 8,
      "outputs": []
    },
    {
      "cell_type": "code",
      "metadata": {
        "colab": {
          "base_uri": "https://localhost:8080/"
        },
        "id": "iuCuL4XuTZV6",
        "outputId": "9df0ff72-51e6-4523-da68-9314211f7e8a"
      },
      "source": [
        "model.fit(X_train, y_train, epochs=50, batch_size=32)"
      ],
      "execution_count": 9,
      "outputs": [
        {
          "output_type": "stream",
          "text": [
            "Epoch 1/50\n",
            "1563/1563 [==============================] - 35s 3ms/step - loss: 1.7222 - accuracy: 0.3618\n",
            "Epoch 2/50\n",
            "1563/1563 [==============================] - 5s 3ms/step - loss: 1.4073 - accuracy: 0.4915\n",
            "Epoch 3/50\n",
            "1563/1563 [==============================] - 5s 3ms/step - loss: 1.2730 - accuracy: 0.5452\n",
            "Epoch 4/50\n",
            "1563/1563 [==============================] - 5s 3ms/step - loss: 1.1801 - accuracy: 0.5806\n",
            "Epoch 5/50\n",
            "1563/1563 [==============================] - 5s 3ms/step - loss: 1.1068 - accuracy: 0.6092\n",
            "Epoch 6/50\n",
            "1563/1563 [==============================] - 5s 3ms/step - loss: 1.0491 - accuracy: 0.6303\n",
            "Epoch 7/50\n",
            "1563/1563 [==============================] - 5s 3ms/step - loss: 0.9970 - accuracy: 0.6479\n",
            "Epoch 8/50\n",
            "1563/1563 [==============================] - 5s 3ms/step - loss: 0.9582 - accuracy: 0.6639\n",
            "Epoch 9/50\n",
            "1563/1563 [==============================] - 5s 3ms/step - loss: 0.9232 - accuracy: 0.6761\n",
            "Epoch 10/50\n",
            "1563/1563 [==============================] - 5s 3ms/step - loss: 0.8927 - accuracy: 0.6883\n",
            "Epoch 11/50\n",
            "1563/1563 [==============================] - 5s 3ms/step - loss: 0.8588 - accuracy: 0.6985\n",
            "Epoch 12/50\n",
            "1563/1563 [==============================] - 5s 3ms/step - loss: 0.8383 - accuracy: 0.7077\n",
            "Epoch 13/50\n",
            "1563/1563 [==============================] - 5s 3ms/step - loss: 0.8135 - accuracy: 0.7141\n",
            "Epoch 14/50\n",
            "1563/1563 [==============================] - 5s 3ms/step - loss: 0.7923 - accuracy: 0.7225\n",
            "Epoch 15/50\n",
            "1563/1563 [==============================] - 5s 3ms/step - loss: 0.7696 - accuracy: 0.7311\n",
            "Epoch 16/50\n",
            "1563/1563 [==============================] - 5s 3ms/step - loss: 0.7512 - accuracy: 0.7378\n",
            "Epoch 17/50\n",
            "1563/1563 [==============================] - 5s 3ms/step - loss: 0.7404 - accuracy: 0.7399\n",
            "Epoch 18/50\n",
            "1563/1563 [==============================] - 5s 3ms/step - loss: 0.7197 - accuracy: 0.7475\n",
            "Epoch 19/50\n",
            "1563/1563 [==============================] - 5s 3ms/step - loss: 0.7091 - accuracy: 0.7525\n",
            "Epoch 20/50\n",
            "1563/1563 [==============================] - 5s 3ms/step - loss: 0.6893 - accuracy: 0.7598\n",
            "Epoch 21/50\n",
            "1563/1563 [==============================] - 5s 3ms/step - loss: 0.6762 - accuracy: 0.7631\n",
            "Epoch 22/50\n",
            "1563/1563 [==============================] - 5s 3ms/step - loss: 0.6680 - accuracy: 0.7661\n",
            "Epoch 23/50\n",
            "1563/1563 [==============================] - 5s 3ms/step - loss: 0.6495 - accuracy: 0.7730\n",
            "Epoch 24/50\n",
            "1563/1563 [==============================] - 5s 3ms/step - loss: 0.6369 - accuracy: 0.7765\n",
            "Epoch 25/50\n",
            "1563/1563 [==============================] - 5s 3ms/step - loss: 0.6308 - accuracy: 0.7793\n",
            "Epoch 26/50\n",
            "1563/1563 [==============================] - 5s 3ms/step - loss: 0.6164 - accuracy: 0.7857\n",
            "Epoch 27/50\n",
            "1563/1563 [==============================] - 5s 3ms/step - loss: 0.6053 - accuracy: 0.7887\n",
            "Epoch 28/50\n",
            "1563/1563 [==============================] - 5s 3ms/step - loss: 0.5972 - accuracy: 0.7913\n",
            "Epoch 29/50\n",
            "1563/1563 [==============================] - 5s 3ms/step - loss: 0.5801 - accuracy: 0.7973\n",
            "Epoch 30/50\n",
            "1563/1563 [==============================] - 5s 3ms/step - loss: 0.5795 - accuracy: 0.7975\n",
            "Epoch 31/50\n",
            "1563/1563 [==============================] - 5s 3ms/step - loss: 0.5631 - accuracy: 0.8040\n",
            "Epoch 32/50\n",
            "1563/1563 [==============================] - 5s 3ms/step - loss: 0.5615 - accuracy: 0.8035\n",
            "Epoch 33/50\n",
            "1563/1563 [==============================] - 5s 3ms/step - loss: 0.5462 - accuracy: 0.8080\n",
            "Epoch 34/50\n",
            "1563/1563 [==============================] - 5s 3ms/step - loss: 0.5439 - accuracy: 0.8095\n",
            "Epoch 35/50\n",
            "1563/1563 [==============================] - 5s 3ms/step - loss: 0.5344 - accuracy: 0.8128\n",
            "Epoch 36/50\n",
            "1563/1563 [==============================] - 5s 3ms/step - loss: 0.5268 - accuracy: 0.8150\n",
            "Epoch 37/50\n",
            "1563/1563 [==============================] - 5s 3ms/step - loss: 0.5214 - accuracy: 0.8173\n",
            "Epoch 38/50\n",
            "1563/1563 [==============================] - 5s 3ms/step - loss: 0.5125 - accuracy: 0.8216\n",
            "Epoch 39/50\n",
            "1563/1563 [==============================] - 5s 3ms/step - loss: 0.5098 - accuracy: 0.8210\n",
            "Epoch 40/50\n",
            "1563/1563 [==============================] - 5s 3ms/step - loss: 0.5019 - accuracy: 0.8241\n",
            "Epoch 41/50\n",
            "1563/1563 [==============================] - 5s 3ms/step - loss: 0.4935 - accuracy: 0.8277\n",
            "Epoch 42/50\n",
            "1563/1563 [==============================] - 5s 3ms/step - loss: 0.4936 - accuracy: 0.8271\n",
            "Epoch 43/50\n",
            "1563/1563 [==============================] - 5s 3ms/step - loss: 0.4790 - accuracy: 0.8315\n",
            "Epoch 44/50\n",
            "1563/1563 [==============================] - 5s 3ms/step - loss: 0.4787 - accuracy: 0.8318\n",
            "Epoch 45/50\n",
            "1563/1563 [==============================] - 5s 3ms/step - loss: 0.4736 - accuracy: 0.8333\n",
            "Epoch 46/50\n",
            "1563/1563 [==============================] - 5s 3ms/step - loss: 0.4671 - accuracy: 0.8364\n",
            "Epoch 47/50\n",
            "1563/1563 [==============================] - 5s 3ms/step - loss: 0.4719 - accuracy: 0.8353\n",
            "Epoch 48/50\n",
            "1563/1563 [==============================] - 5s 3ms/step - loss: 0.4659 - accuracy: 0.8360\n",
            "Epoch 49/50\n",
            "1563/1563 [==============================] - 5s 3ms/step - loss: 0.4590 - accuracy: 0.8393\n",
            "Epoch 50/50\n",
            "1563/1563 [==============================] - 5s 3ms/step - loss: 0.4566 - accuracy: 0.8407\n"
          ],
          "name": "stdout"
        },
        {
          "output_type": "execute_result",
          "data": {
            "text/plain": [
              "<keras.callbacks.History at 0x7f83502a2610>"
            ]
          },
          "metadata": {},
          "execution_count": 9
        }
      ]
    },
    {
      "cell_type": "code",
      "metadata": {
        "colab": {
          "base_uri": "https://localhost:8080/"
        },
        "id": "eQsbmOoHTiHv",
        "outputId": "42976514-24d5-4b1d-9521-ac92397981ad"
      },
      "source": [
        "model.evaluate(X_test, y_test)"
      ],
      "execution_count": 10,
      "outputs": [
        {
          "output_type": "stream",
          "text": [
            "313/313 [==============================] - 1s 2ms/step - loss: 1.2887 - accuracy: 0.6516\n"
          ],
          "name": "stdout"
        },
        {
          "output_type": "execute_result",
          "data": {
            "text/plain": [
              "[1.288710594177246, 0.6516000032424927]"
            ]
          },
          "metadata": {},
          "execution_count": 10
        }
      ]
    },
    {
      "cell_type": "code",
      "metadata": {
        "id": "k9NcI50MWVoq"
      },
      "source": [
        "y_pred = model.predict(X_test)"
      ],
      "execution_count": 11,
      "outputs": []
    },
    {
      "cell_type": "code",
      "metadata": {
        "colab": {
          "base_uri": "https://localhost:8080/"
        },
        "id": "vwS4LcEdWZAb",
        "outputId": "e1e704ab-07a2-4b02-ae96-06c7d0733ea7"
      },
      "source": [
        "y_pred[0]"
      ],
      "execution_count": 12,
      "outputs": [
        {
          "output_type": "execute_result",
          "data": {
            "text/plain": [
              "array([4.9517294e-06, 2.1875554e-05, 1.8139834e-02, 8.3950245e-01,\n",
              "       1.8534210e-02, 9.3971357e-02, 2.7744966e-02, 2.0202573e-03,\n",
              "       3.3603814e-05, 2.6552298e-05], dtype=float32)"
            ]
          },
          "metadata": {},
          "execution_count": 12
        }
      ]
    },
    {
      "cell_type": "code",
      "metadata": {
        "colab": {
          "base_uri": "https://localhost:8080/",
          "height": 35
        },
        "id": "tluYr1PSWgny",
        "outputId": "2c821c73-f757-4868-acc7-e0470bcc0eb2"
      },
      "source": [
        "classes[np.argmax(y_pred[0])]"
      ],
      "execution_count": 13,
      "outputs": [
        {
          "output_type": "execute_result",
          "data": {
            "application/vnd.google.colaboratory.intrinsic+json": {
              "type": "string"
            },
            "text/plain": [
              "'cat'"
            ]
          },
          "metadata": {},
          "execution_count": 13
        }
      ]
    },
    {
      "cell_type": "code",
      "metadata": {
        "colab": {
          "base_uri": "https://localhost:8080/"
        },
        "id": "veOvxrbVWpIl",
        "outputId": "2b19bfed-97d4-4ddb-c92f-26d1be430fa3"
      },
      "source": [
        "y_test[0]"
      ],
      "execution_count": 14,
      "outputs": [
        {
          "output_type": "execute_result",
          "data": {
            "text/plain": [
              "array([3], dtype=uint8)"
            ]
          },
          "metadata": {},
          "execution_count": 14
        }
      ]
    },
    {
      "cell_type": "code",
      "metadata": {
        "colab": {
          "base_uri": "https://localhost:8080/",
          "height": 35
        },
        "id": "l1FjeD09XHEM",
        "outputId": "3e724f4a-1217-4be8-ca82-5681564af146"
      },
      "source": [
        "image_row = 11\n",
        "classes[np.argmax(y_pred[image_row])]"
      ],
      "execution_count": 17,
      "outputs": [
        {
          "output_type": "execute_result",
          "data": {
            "application/vnd.google.colaboratory.intrinsic+json": {
              "type": "string"
            },
            "text/plain": [
              "'truck'"
            ]
          },
          "metadata": {},
          "execution_count": 17
        }
      ]
    },
    {
      "cell_type": "code",
      "metadata": {
        "colab": {
          "base_uri": "https://localhost:8080/",
          "height": 284
        },
        "id": "dK7v_wgDW6rV",
        "outputId": "185833bf-7c93-4030-bbe7-e3e62f07a2c1"
      },
      "source": [
        "plt.imshow(X_test[image_row])\n",
        "classes[y_test[image_row][0]]"
      ],
      "execution_count": 18,
      "outputs": [
        {
          "output_type": "execute_result",
          "data": {
            "application/vnd.google.colaboratory.intrinsic+json": {
              "type": "string"
            },
            "text/plain": [
              "'truck'"
            ]
          },
          "metadata": {},
          "execution_count": 18
        },
        {
          "output_type": "display_data",
          "data": {
            "image/png": "[encoded data removed]",
            "text/plain": [
              "<Figure size 432x288 with 1 Axes>"
            ]
          },
          "metadata": {
            "needs_background": "light"
          }
        }
      ]
    },
    {
      "cell_type": "code",
      "metadata": {
        "id": "B8LasuQrYRdl"
      },
      "source": [
        ""
      ],
      "execution_count": null,
      "outputs": []
    },
    {
      "cell_type": "markdown",
      "metadata": {
        "id": "O4cONYlQYR_S"
      },
      "source": [
        "#  task\n",
        "train on mnist data\n",
        "train on fmnist data\n",
        "download the data and upload on gdrive. kaggle.com cats vs dogs"
      ]
    },
    {
      "cell_type": "code",
      "metadata": {
        "id": "5DEC_TVnYWdE"
      },
      "source": [
        ""
      ],
      "execution_count": null,
      "outputs": []
    }
  ]
}